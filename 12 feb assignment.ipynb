{
 "cells": [
  {
   "cell_type": "code",
   "execution_count": 8,
   "id": "d0aa030c-152c-4771-bc2d-72795fd9c3c3",
   "metadata": {},
   "outputs": [
    {
     "name": "stdin",
     "output_type": "stream",
     "text": [
      "enter a number 2\n"
     ]
    },
    {
     "ename": "ZeroDivisionError",
     "evalue": "division by zero",
     "output_type": "error",
     "traceback": [
      "\u001b[0;31m---------------------------------------------------------------------------\u001b[0m",
      "\u001b[0;31mZeroDivisionError\u001b[0m                         Traceback (most recent call last)",
      "Cell \u001b[0;32mIn[8], line 3\u001b[0m\n\u001b[1;32m      1\u001b[0m \u001b[38;5;66;03m#1.sol-exception is an event or block of code that disrupts the normal flow of programme.\u001b[39;00m\n\u001b[1;32m      2\u001b[0m x\u001b[38;5;241m=\u001b[39m\u001b[38;5;28mint\u001b[39m(\u001b[38;5;28minput\u001b[39m(\u001b[38;5;124m\"\u001b[39m\u001b[38;5;124menter a number\u001b[39m\u001b[38;5;124m\"\u001b[39m))\n\u001b[0;32m----> 3\u001b[0m y\u001b[38;5;241m=\u001b[39m\u001b[43mx\u001b[49m\u001b[38;5;241;43m/\u001b[39;49m\u001b[38;5;241;43m0\u001b[39;49m \u001b[38;5;66;03m# this code is a point of exception\u001b[39;00m\n\u001b[1;32m      4\u001b[0m z\u001b[38;5;241m=\u001b[39mx\u001b[38;5;241m*\u001b[39m\u001b[38;5;241m3\u001b[39m\n\u001b[1;32m      5\u001b[0m z\n",
      "\u001b[0;31mZeroDivisionError\u001b[0m: division by zero"
     ]
    }
   ],
   "source": [
    "#1.sol-exception is an event or block of code that disrupts the normal flow of programme.\n",
    "x=int(input(\"enter a number\"))\n",
    "y=x/0 # this code is a point of exception\n",
    "z=x*3\n",
    "z\n",
    "## a syntax error stops a programme from completion of its task.but in exception a block of code is jumped and upcoming coderuns efficently wuthout any hinderance.\n",
    "try:\n",
    "    you=int(input(\"enter a number\"))\n",
    "    me=you/0\n",
    "except:\n",
    "    print(\"error\")\n",
    "q=you**2\n",
    "q"
   ]
  },
  {
   "cell_type": "code",
   "execution_count": 9,
   "id": "dfd88c46-8fa9-4ccc-b8ad-2b7c05e7bb07",
   "metadata": {},
   "outputs": [
    {
     "name": "stdin",
     "output_type": "stream",
     "text": [
      "enter a number 2\n"
     ]
    },
    {
     "name": "stdout",
     "output_type": "stream",
     "text": [
      "error\n"
     ]
    },
    {
     "data": {
      "text/plain": [
       "4"
      ]
     },
     "execution_count": 9,
     "metadata": {},
     "output_type": "execute_result"
    }
   ],
   "source": [
    "try:\n",
    "    you=int(input(\"enter a number\"))\n",
    "    me=you/0\n",
    "except:\n",
    "    print(\"error\")\n",
    "q=you**2\n",
    "q"
   ]
  },
  {
   "cell_type": "code",
   "execution_count": 1,
   "id": "9a8fbc2f-9c4c-403b-93f4-b930fe4cc709",
   "metadata": {},
   "outputs": [
    {
     "name": "stdin",
     "output_type": "stream",
     "text": [
      "enter a number 3\n"
     ]
    },
    {
     "ename": "ZeroDivisionError",
     "evalue": "division by zero",
     "output_type": "error",
     "traceback": [
      "\u001b[0;31m---------------------------------------------------------------------------\u001b[0m",
      "\u001b[0;31mZeroDivisionError\u001b[0m                         Traceback (most recent call last)",
      "Cell \u001b[0;32mIn[1], line 3\u001b[0m\n\u001b[1;32m      1\u001b[0m \u001b[38;5;66;03m#2sol.if exception are not handled error will occour end execution of task will be obstructed.\u001b[39;00m\n\u001b[1;32m      2\u001b[0m v\u001b[38;5;241m=\u001b[39m\u001b[38;5;28mint\u001b[39m(\u001b[38;5;28minput\u001b[39m(\u001b[38;5;124m\"\u001b[39m\u001b[38;5;124menter a number\u001b[39m\u001b[38;5;124m\"\u001b[39m))\n\u001b[0;32m----> 3\u001b[0m y\u001b[38;5;241m=\u001b[39m\u001b[43mv\u001b[49m\u001b[38;5;241;43m/\u001b[39;49m\u001b[38;5;241;43m0\u001b[39;49m \u001b[38;5;66;03m# this code is a point of exception\u001b[39;00m\n\u001b[1;32m      4\u001b[0m z\u001b[38;5;241m=\u001b[39mv\u001b[38;5;241m*\u001b[39m\u001b[38;5;241m2\u001b[39m\n\u001b[1;32m      5\u001b[0m z\n",
      "\u001b[0;31mZeroDivisionError\u001b[0m: division by zero"
     ]
    }
   ],
   "source": [
    "#2sol.if exception are not handled error will occour end execution of task will be obstructed.\n",
    "v=int(input(\"enter a number\"))\n",
    "y=v/0 # this code is a point of exception\n",
    "z=v*2\n",
    "z\n"
   ]
  },
  {
   "cell_type": "code",
   "execution_count": 5,
   "id": "46344bcc-d262-429a-8fe3-f6e16c96ca08",
   "metadata": {},
   "outputs": [
    {
     "name": "stdin",
     "output_type": "stream",
     "text": [
      "enter a number 3\n"
     ]
    },
    {
     "name": "stderr",
     "output_type": "stream",
     "text": [
      "WARNING:root:error due to denominator==0\n"
     ]
    },
    {
     "data": {
      "text/plain": [
       "9"
      ]
     },
     "execution_count": 5,
     "metadata": {},
     "output_type": "execute_result"
    }
   ],
   "source": [
    "#3.try is used to catch and except keyworrd is used to handle the execption.\n",
    "import logging\n",
    "try:\n",
    "    day=int(input(\"enter a number\"))\n",
    "    he=day/0\n",
    "except:\n",
    "    logging.warning(\"error due to denominator==0\")\n",
    "s=day**2\n",
    "s\n"
   ]
  },
  {
   "cell_type": "code",
   "execution_count": 18,
   "id": "894d796a-2c39-4cb8-b758-837ede61e136",
   "metadata": {},
   "outputs": [
    {
     "name": "stderr",
     "output_type": "stream",
     "text": [
      "WARNING:root:3\n",
      "WARNING:root:santosh\n",
      "WARNING:root:try block executed well\n",
      "CRITICAL:root:smooth code\n"
     ]
    },
    {
     "name": "stdout",
     "output_type": "stream",
     "text": [
      "The 'try except' is finished\n"
     ]
    }
   ],
   "source": [
    "#4.sol\n",
    "try:\n",
    "    c=3\n",
    "    logging.warning(c)\n",
    "    try:\n",
    "        name=\"santosh\"\n",
    "        logging.warning(name)\n",
    "    except:\n",
    "        print(\"string error\")\n",
    "    else:\n",
    "        logging.warning(\"try block executed well\")\n",
    "except:\n",
    "  print(\"Something went wrong\")\n",
    "else:\n",
    "    logging.critical('smooth code')\n",
    "finally:\n",
    "  print(\"The 'try except' is finished\")"
   ]
  },
  {
   "cell_type": "code",
   "execution_count": 19,
   "id": "ca5a678b-0d5d-480e-b33a-93213f3a778b",
   "metadata": {},
   "outputs": [
    {
     "ename": "TypeError",
     "evalue": "Only integers are allowed",
     "output_type": "error",
     "traceback": [
      "\u001b[0;31m---------------------------------------------------------------------------\u001b[0m",
      "\u001b[0;31mTypeError\u001b[0m                                 Traceback (most recent call last)",
      "Cell \u001b[0;32mIn[19], line 4\u001b[0m\n\u001b[1;32m      1\u001b[0m x \u001b[38;5;241m=\u001b[39m \u001b[38;5;124m\"\u001b[39m\u001b[38;5;124mhello\u001b[39m\u001b[38;5;124m\"\u001b[39m\n\u001b[1;32m      3\u001b[0m \u001b[38;5;28;01mif\u001b[39;00m \u001b[38;5;129;01mnot\u001b[39;00m \u001b[38;5;28mtype\u001b[39m(x) \u001b[38;5;129;01mis\u001b[39;00m \u001b[38;5;28mint\u001b[39m:\n\u001b[0;32m----> 4\u001b[0m   \u001b[38;5;28;01mraise\u001b[39;00m \u001b[38;5;167;01mTypeError\u001b[39;00m(\u001b[38;5;124m\"\u001b[39m\u001b[38;5;124mOnly integers are allowed\u001b[39m\u001b[38;5;124m\"\u001b[39m)\n",
      "\u001b[0;31mTypeError\u001b[0m: Only integers are allowed"
     ]
    }
   ],
   "source": [
    "x = \"hello\"\n",
    "\n",
    "if not type(x) is int:\n",
    "  raise TypeError(\"Only integers are allowed\")\n"
   ]
  },
  {
   "cell_type": "code",
   "execution_count": 32,
   "id": "efd80c87-6b4a-46d5-9b7e-bcbc4ab81830",
   "metadata": {},
   "outputs": [
    {
     "name": "stdin",
     "output_type": "stream",
     "text": [
      "Enter amount:  9000\n"
     ]
    },
    {
     "name": "stdout",
     "output_type": "stream",
     "text": [
      "1000\n",
      "Error: Keep a minimum of 2000 rupees in the account.\n"
     ]
    }
   ],
   "source": [
    "#5 sol.when we define exception condition according to our requirement it is called coustom exception.\n",
    "class balance_exception(Exception):\n",
    "    def __init__(self, message):\n",
    "        self.message = message\n",
    "        super().__init__(message)\n",
    "\n",
    "def check_balance():\n",
    "    total = 10000\n",
    "    withdrawal = int(input(\"Enter amount: \"))\n",
    "    try:\n",
    "        bal = total - withdrawal\n",
    "        print(bal)\n",
    "        if bal <= 2000:\n",
    "            raise balance_exception(\"Error: Keep a minimum of 2000 rupees in the account.\")\n",
    "    except balance_exception as be:\n",
    "        print(be.message)\n",
    "\n",
    "check_balance()\n"
   ]
  },
  {
   "cell_type": "code",
   "execution_count": null,
   "id": "02efc67b-5330-45ea-8fed-c4f961476ba7",
   "metadata": {},
   "outputs": [],
   "source": [
    "class voting_exception(Exception):\n",
    "    def __init__(self,note):\n",
    "        self.note=note\n",
    "        super().__init__(note)\n",
    "def check_age():\n",
    "    age=int(input(\"enter you age\"))\n",
    "    if age<=18:\n",
    "        raise voting_exception(\"not allowed: you are under age to vote\")\n",
    "try:\n",
    "    check_age()\n",
    "except voting_exception as ve:\n",
    "    prin\n",
    "        "
   ]
  }
 ],
 "metadata": {
  "kernelspec": {
   "display_name": "Python 3 (ipykernel)",
   "language": "python",
   "name": "python3"
  },
  "language_info": {
   "codemirror_mode": {
    "name": "ipython",
    "version": 3
   },
   "file_extension": ".py",
   "mimetype": "text/x-python",
   "name": "python",
   "nbconvert_exporter": "python",
   "pygments_lexer": "ipython3",
   "version": "3.10.8"
  }
 },
 "nbformat": 4,
 "nbformat_minor": 5
}
